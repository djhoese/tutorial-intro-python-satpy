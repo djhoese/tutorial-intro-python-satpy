{
 "cells": [
  {
   "cell_type": "markdown",
   "metadata": {},
   "source": [
    "# Introduction to Python\n",
    "\n",
    "In this lesson we will be learning the basics of the Python programming\n",
    "language to accomplish simple tasks. We can use programming to solve\n",
    "complex problems. Once we've written a program we can make it operate on\n",
    "different inputs. This allows us to take one solution and apply to many\n",
    "cases. Before we can solve complex problems we need to break it down in to\n",
    "smaller simpler problems or tasks. Once we've written code to solve each\n",
    "simple task, we can put everything together and solve our complex problem.\n",
    "\n",
    "This lesson will start with the basics of Python to give you an idea of\n",
    "what functionality Python can provide. By using and combining these techniques\n",
    "we can apply Python programming to our own real world problems to make the\n",
    "computer solve our problems quickly and repeatedly.\n",
    "\n",
    "## Jupyter Notebooks and JupyterLab\n",
    "\n",
    "This lesson is stored in a Jupyter Notebook (`.ipynb` file). Notebooks are a\n",
    "special type of file that bring text (like this) and code in to the same file.\n",
    "When Notebooks are used in tools like JupyterLab we can see the code, execute\n",
    "it, and see the results. Results can be simple text or with the right tools\n",
    "we can make images or interactive widgets. By default, a saved Notebook will\n",
    "include all of the text, code, and code results. This allows us to easily\n",
    "explore or analyze a programming problem and then share it with others.\n",
    "Notebooks can be exported as a PDF, an HTML web page, or even a slide show\n",
    "like PowerPoint.\n",
    "\n",
    "### JupyterLab\n",
    "\n",
    "JupyterLab gives us an integrated environment to work with Notebooks and other\n",
    "files all in one browser window. On the top of the window we have the menu bar\n",
    "with typical File, Edit, and View menus, but also special Notebook-specific\n",
    "menus like Kernel. On the left we have the file browser where we\n",
    "can double-click files or folders to open them. When a file is opened it\n",
    "appears in the tabbed area to right. If the file is a simple text format it is\n",
    "usually shown in an editor where you can change the contents of the file and\n",
    "save it for later use. If a notebook file is opened it is presented in an\n",
    "interactive viewer.\n",
    "\n",
    "### Cells\n",
    "\n",
    "Notebooks are made up of cells. There are two main types of cells: Code and\n",
    "Markdown. Markdown cells hold text, like this one, that is formatted\n",
    "with special characters to represent section headers, or bold words, or other\n",
    "special styling. Code cells hold code to be executed. In this notebook every\n",
    "code cell contains Python code.\n",
    "\n",
    "Code cells can be executed by selecting them (clicking on them) and hitting\n",
    "`Shift` + `Enter` on the keyboard. This will execute the current cell and\n",
    "select the next cell. Using `Ctrl` + `Enter` will execute the current cell\n",
    "and keep it selected. When a code cell is executing it will show `*` in the\n",
    "brackets to the upper-left of the cell. Code cells will execute in the order\n",
    "you run them and do not run in parallel.\n",
    "\n",
    "### Modes\n",
    "\n",
    "There are two main modes in Jupyter Notebooks when working with cells: Edit\n",
    "mode and Command mode. In Edit mode you can change the contents of a cell by\n",
    "typing in the cell. You can enter Edit mode by clicking inside a code cell or\n",
    "hitting \"Enter\" while in Command mode. There will be a green border around a\n",
    "cell when in Edit mode.\n",
    "\n",
    "In Command mode you can perform operations on the cell like deleting the cell,\n",
    "creating a new cell above or below the current cell, etc. In Command mode\n",
    "cells will have a blue border. You can enter Command mode from Edit mode by\n",
    "hitting \"Esc\".\n",
    "\n",
    "### Keyboard Shortcuts\n",
    "\n",
    "In command mode you can use various keyboard shortcuts:\n",
    "\n",
    "* a: Create new cell above current cell\n",
    "* b: Create new cell below current cell\n",
    "* dd: Delete current cell\n",
    "\n",
    "See the \"Help\" menu for more information.\n",
    "\n",
    "### Resources\n",
    "\n",
    "* Software Carpentry Python Lessons: http://swcarpentry.github.io/python-novice-gapminder/\n",
    "* Dive in to Python: https://www.cmi.ac.in/~madhavan/courses/prog2-2012/docs/diveintopython3/index.html\n",
    "\n",
    "## Executing Code\n",
    "\n",
    "Let's try executing some simple python code in the cells below to get a feel\n",
    "for how Notebooks can be used. The next cell adds two numbers together.\n",
    "Execute it by selecting it and hitting `Shift` + `Enter` simultaneously on\n",
    "your keyboard. The result should be shown below the cell.\n",
    "\n",
    "**Exercise**\n",
    "\n",
    "**Time: 2 minutes**\n",
    "\n",
    "After executing the cell try editing the cell, change the numbers used or\n",
    "perform another calculation (`-`, `*`, `/`), and rerun the cell. Notice how\n",
    "the cell number (in brackets to the left) increases with every execution."
   ]
  },
  {
   "cell_type": "code",
   "execution_count": null,
   "metadata": {},
   "outputs": [],
   "source": [
    "1 + 2"
   ]
  },
  {
   "cell_type": "markdown",
   "metadata": {},
   "source": [
    "What's displayed as the result if we put multiple equations in one cell?"
   ]
  },
  {
   "cell_type": "code",
   "execution_count": null,
   "metadata": {},
   "outputs": [],
   "source": [
    "1 + 2\n",
    "4 + 4"
   ]
  },
  {
   "cell_type": "markdown",
   "metadata": {},
   "source": [
    "## Variables"
   ]
  },
  {
   "cell_type": "markdown",
   "metadata": {},
   "source": [
    "With Python variables we can store values for later use. Variables are\n",
    "pointers or labels for objects in Python. They allow us to give short\n",
    "human-readable names to values. Update the values below to your own\n",
    "age and name. We'll use these values later on."
   ]
  },
  {
   "cell_type": "code",
   "execution_count": null,
   "metadata": {},
   "outputs": [],
   "source": [
    "age = 18\n",
    "first_name = 'Julie'"
   ]
  },
  {
   "cell_type": "markdown",
   "metadata": {},
   "source": [
    "### Print\n",
    "\n",
    "We can use Python's `print` function to print things to the screen. We can\n",
    "combine text and numbers by passing them as separate arguments to the\n",
    "`print` function. The text we pass can be provided by wrapping it in single\n",
    "or double quotes."
   ]
  },
  {
   "cell_type": "code",
   "execution_count": null,
   "metadata": {},
   "outputs": [],
   "source": [
    "print(age)\n",
    "print(first_name, \"is\", age, 'years old')\n",
    "print('age =', age)"
   ]
  },
  {
   "cell_type": "markdown",
   "metadata": {},
   "source": [
    "Variables must be defined before they are used."
   ]
  },
  {
   "cell_type": "code",
   "execution_count": null,
   "metadata": {},
   "outputs": [],
   "source": [
    "print(last_name)"
   ]
  },
  {
   "cell_type": "code",
   "execution_count": null,
   "metadata": {},
   "outputs": [],
   "source": [
    "last_name = 'Smith'"
   ]
  },
  {
   "cell_type": "markdown",
   "metadata": {},
   "source": [
    "Notice how it is the order of **execution** that matters for Jupyter cells, not the placement in the notebook. If we rerun the `print` cell above after we've declared `last_name`, we see the last name printed.\n",
    "\n",
    "We can use variables anywhere we would have used its value, like our equations from before:"
   ]
  },
  {
   "cell_type": "code",
   "execution_count": null,
   "metadata": {},
   "outputs": [],
   "source": [
    "age + 3"
   ]
  },
  {
   "cell_type": "markdown",
   "metadata": {},
   "source": [
    "We can also change the value a variable:"
   ]
  },
  {
   "cell_type": "code",
   "execution_count": null,
   "metadata": {},
   "outputs": [],
   "source": [
    "age = age + 3"
   ]
  },
  {
   "cell_type": "code",
   "execution_count": null,
   "metadata": {},
   "outputs": [],
   "source": [
    "print(\"Age in 3 years:\", age)"
   ]
  },
  {
   "cell_type": "markdown",
   "metadata": {},
   "source": [
    "## Indexing\n",
    "\n",
    "So far we've been dealing with values as one single element. However, some types of objects in Python are made up of smaller parts. One example are string objects, the text we've been dealing with so far, which is made up of individual characters. Characters can be thought of as single character strings and that's exactly how Python treats them."
   ]
  },
  {
   "cell_type": "code",
   "execution_count": null,
   "metadata": {},
   "outputs": [],
   "source": [
    "atom_name = 'helium'\n",
    "atom_name"
   ]
  },
  {
   "cell_type": "markdown",
   "metadata": {},
   "source": [
    "If we want to get the first character of our `atom_name` variable we can pass\n",
    "the **index** between brackets (`[]`) to get the item. Python is a 0-based\n",
    "index language which basically means we start counting from 0."
   ]
  },
  {
   "cell_type": "code",
   "execution_count": null,
   "metadata": {},
   "outputs": [],
   "source": [
    "atom_name[0]"
   ]
  },
  {
   "cell_type": "markdown",
   "metadata": {},
   "source": [
    "We can ask for a range of characters by providing multiple indexes separated\n",
    "by a colon (`:`). This is known as slicing. The first number is our starting\n",
    "index, the index of the first item we want (inclusive). The second number is\n",
    "the index **after** the last element we want (exclusive)."
   ]
  },
  {
   "cell_type": "code",
   "execution_count": null,
   "metadata": {},
   "outputs": [],
   "source": [
    "atom_name[1:4]"
   ]
  },
  {
   "cell_type": "markdown",
   "metadata": {},
   "source": [
    "**Exercise**\n",
    "\n",
    "**Time: 2 minutes**\n",
    "\n",
    "Try change the range of the indexes and see how the results change. What happens if you ask for an index past the end of the string? What happens if you use a negative number?"
   ]
  },
  {
   "cell_type": "markdown",
   "metadata": {},
   "source": [
    "### Length\n",
    "\n",
    "We can use the builtin `len` function to see how many elements or characters\n",
    "are in a string."
   ]
  },
  {
   "cell_type": "code",
   "execution_count": null,
   "metadata": {},
   "outputs": [],
   "source": [
    "len(atom_name)"
   ]
  },
  {
   "cell_type": "code",
   "execution_count": null,
   "metadata": {},
   "outputs": [],
   "source": [
    "print(\"Your name is\", len(first_name), \"characters long!\")"
   ]
  },
  {
   "cell_type": "markdown",
   "metadata": {},
   "source": [
    "## Types\n",
    "\n",
    "Everything in Python is an object, a \"thing\", of a particular **type**. Some\n",
    "types of objects can work together, or be combined, in certain ways and others\n",
    "can't. We can check the type of an object by using the builtin `type` function."
   ]
  },
  {
   "cell_type": "code",
   "execution_count": null,
   "metadata": {},
   "outputs": [],
   "source": [
    "type(1)"
   ]
  },
  {
   "cell_type": "code",
   "execution_count": null,
   "metadata": {},
   "outputs": [],
   "source": [
    "type(1.5)"
   ]
  },
  {
   "cell_type": "code",
   "execution_count": null,
   "metadata": {},
   "outputs": [],
   "source": [
    "type(\"abc\")"
   ]
  },
  {
   "cell_type": "code",
   "execution_count": null,
   "metadata": {},
   "outputs": [],
   "source": [
    "type(atom_name)"
   ]
  },
  {
   "cell_type": "markdown",
   "metadata": {},
   "source": [
    "We can usually combine objects of the same type. We saw this before when\n",
    "adding `3` to our age. We can do something similar with strings."
   ]
  },
  {
   "cell_type": "code",
   "execution_count": null,
   "metadata": {},
   "outputs": [],
   "source": [
    "\"abc\" + \"d\""
   ]
  },
  {
   "cell_type": "markdown",
   "metadata": {},
   "source": [
    "We saw above that the numbers `1` and `1.5` have different types; `int` short for integer and\n",
    "`float` short for floating point number. Even though they are different types\n",
    "of objects, they both represent numbers and can be combined."
   ]
  },
  {
   "cell_type": "code",
   "execution_count": null,
   "metadata": {},
   "outputs": [],
   "source": [
    "1 + 1.5"
   ]
  },
  {
   "cell_type": "markdown",
   "metadata": {},
   "source": [
    "Other types can't be combined if Python doesn't know what the result should be."
   ]
  },
  {
   "cell_type": "code",
   "execution_count": null,
   "metadata": {},
   "outputs": [],
   "source": [
    "\"abc\" + 1"
   ]
  },
  {
   "cell_type": "markdown",
   "metadata": {},
   "source": [
    "The above cell gives us our first error from Python. When Python isn't able to complete an operation it tells us by presenting an error, this is called raising an exception. There are different types of exceptions depending on what went wrong. In this case the TypeError and its associated message tell us that the **types** of objects in our operation don't work together. We can try changing the types of objects by using other functions provided by Python.\n",
    "\n",
    "## Builtin Functions\n",
    "\n",
    "Python comes with a lot of builtin functions for doing common operations.\n",
    "Let's say we wanted to add the number `1` to the end of the string `\"abc\"`.\n",
    "We could convert the number `1` to a string and then add the two strings\n",
    "like we did before."
   ]
  },
  {
   "cell_type": "code",
   "execution_count": null,
   "metadata": {},
   "outputs": [],
   "source": [
    "str(1)"
   ]
  },
  {
   "cell_type": "code",
   "execution_count": null,
   "metadata": {},
   "outputs": [],
   "source": [
    "\"abc\" + str(1)"
   ]
  },
  {
   "cell_type": "markdown",
   "metadata": {},
   "source": [
    "A lot of the builtin types in python (`int`, `float`, `str`, etc) have\n",
    "functions that can help us convert values."
   ]
  },
  {
   "cell_type": "code",
   "execution_count": null,
   "metadata": {},
   "outputs": [],
   "source": [
    "int(1.5)"
   ]
  },
  {
   "cell_type": "code",
   "execution_count": null,
   "metadata": {},
   "outputs": [],
   "source": [
    "5 + int(\"1\")"
   ]
  },
  {
   "cell_type": "markdown",
   "metadata": {},
   "source": [
    "There are also functions for rounding a fractional number to the nearest\n",
    "integer (`round`). Or to compute the minimum value between two objects (`min`)\n",
    "or the maximum (`max)."
   ]
  },
  {
   "cell_type": "code",
   "execution_count": null,
   "metadata": {},
   "outputs": [],
   "source": [
    "round(1.5)"
   ]
  },
  {
   "cell_type": "code",
   "execution_count": null,
   "metadata": {},
   "outputs": [],
   "source": [
    "min(2.5, 2.2)"
   ]
  },
  {
   "cell_type": "code",
   "execution_count": null,
   "metadata": {},
   "outputs": [],
   "source": [
    "max(0.3, 2.5, 2.2, 1.8)"
   ]
  },
  {
   "cell_type": "code",
   "execution_count": null,
   "metadata": {},
   "outputs": [],
   "source": [
    "max(\"a\", \"c\", \"b\")"
   ]
  },
  {
   "cell_type": "code",
   "execution_count": null,
   "metadata": {},
   "outputs": [],
   "source": [
    "max(\"a\", 2)"
   ]
  },
  {
   "cell_type": "markdown",
   "metadata": {},
   "source": [
    "Just like with addition (`+`) there are some operations that Python's\n",
    "functions know how to handle and others that it doesn't. Comparing a\n",
    "string to a number is one of those cases."
   ]
  },
  {
   "cell_type": "markdown",
   "metadata": {},
   "source": [
    "## Builtin types\n",
    "\n",
    "So far we've dealt with integers (`int`), floating point numbers (`float`),\n",
    "and strings (`str`). There are other common types that Python provides us\n",
    "to organize are data. We'll cover lists and dictionaries. Other types like\n",
    "`set` and `tuple` are left as an exercise for the reader.\n",
    "\n",
    "### Lists\n",
    "\n",
    "If we want to have a series of objects in Python, one option we have are lists.\n",
    "We can create a list by using square brackets (`[]`). We can use a list in a\n",
    "lot of the same ways we used strings."
   ]
  },
  {
   "cell_type": "code",
   "execution_count": null,
   "metadata": {},
   "outputs": [],
   "source": [
    "a = [1, 2, 3]\n",
    "a"
   ]
  },
  {
   "cell_type": "code",
   "execution_count": null,
   "metadata": {},
   "outputs": [],
   "source": [
    "type(a)"
   ]
  },
  {
   "cell_type": "code",
   "execution_count": null,
   "metadata": {},
   "outputs": [],
   "source": [
    "b = []"
   ]
  },
  {
   "cell_type": "code",
   "execution_count": null,
   "metadata": {},
   "outputs": [],
   "source": [
    "type(b)"
   ]
  },
  {
   "cell_type": "code",
   "execution_count": null,
   "metadata": {},
   "outputs": [],
   "source": [
    "a[0]"
   ]
  },
  {
   "cell_type": "code",
   "execution_count": null,
   "metadata": {},
   "outputs": [],
   "source": [
    "a[1:3]"
   ]
  },
  {
   "cell_type": "code",
   "execution_count": null,
   "metadata": {},
   "outputs": [],
   "source": [
    "len(a)"
   ]
  },
  {
   "cell_type": "code",
   "execution_count": null,
   "metadata": {},
   "outputs": [],
   "source": [
    "max(a)"
   ]
  },
  {
   "cell_type": "markdown",
   "metadata": {},
   "source": [
    "We can add more values to a list too. We can either use `+` to \"add\" a list\n",
    "to another list."
   ]
  },
  {
   "cell_type": "code",
   "execution_count": null,
   "metadata": {},
   "outputs": [],
   "source": [
    "a + [5]"
   ]
  },
  {
   "cell_type": "code",
   "execution_count": null,
   "metadata": {},
   "outputs": [],
   "source": [
    "a"
   ]
  },
  {
   "cell_type": "markdown",
   "metadata": {},
   "source": [
    "We can also use a special method called `append` to add individual elements\n",
    "to the list."
   ]
  },
  {
   "cell_type": "code",
   "execution_count": null,
   "metadata": {},
   "outputs": [],
   "source": [
    "a.append(6)"
   ]
  },
  {
   "cell_type": "code",
   "execution_count": null,
   "metadata": {},
   "outputs": [],
   "source": [
    "a"
   ]
  },
  {
   "cell_type": "markdown",
   "metadata": {},
   "source": [
    "Note how `+` created a **new** list; one where `5` was on the end. When we\n",
    "used `append` the `a` list was modified **in place**, meaning `a` is now\n",
    "different than it was before. In the `+` case, `a` remained the same after\n",
    "the operation.\n",
    "\n",
    "We can modify individual elements in a list too."
   ]
  },
  {
   "cell_type": "code",
   "execution_count": null,
   "metadata": {},
   "outputs": [],
   "source": [
    "a[1] = 10"
   ]
  },
  {
   "cell_type": "code",
   "execution_count": null,
   "metadata": {},
   "outputs": [],
   "source": [
    "a"
   ]
  },
  {
   "cell_type": "markdown",
   "metadata": {},
   "source": [
    "## Dictionaries\n",
    "\n",
    "Another very useful builtin type are dictionaries (`dict`). They allow us to\n",
    "map a \"key\" to a \"value\". Let's create a dictionary mapping peoples names to\n",
    "their ages."
   ]
  },
  {
   "cell_type": "code",
   "execution_count": null,
   "metadata": {},
   "outputs": [],
   "source": [
    "ages = {'Julie': 18, 'David': 29}"
   ]
  },
  {
   "cell_type": "code",
   "execution_count": null,
   "metadata": {},
   "outputs": [],
   "source": [
    "ages"
   ]
  },
  {
   "cell_type": "markdown",
   "metadata": {},
   "source": [
    "To access the \"value\" for a particular \"key\" we can use the bracket syntax\n",
    "like we did when indexing in a list or string. Instead of an index number\n",
    "we use the \"key\"."
   ]
  },
  {
   "cell_type": "code",
   "execution_count": null,
   "metadata": {},
   "outputs": [],
   "source": [
    "ages['Julie']"
   ]
  },
  {
   "cell_type": "markdown",
   "metadata": {},
   "source": [
    "Similar to lists we can add more key/value **pairs** to our dictionary."
   ]
  },
  {
   "cell_type": "code",
   "execution_count": null,
   "metadata": {},
   "outputs": [],
   "source": [
    "ages['Anne'] = 17"
   ]
  },
  {
   "cell_type": "markdown",
   "metadata": {},
   "source": [
    "## Comments\n",
    "\n",
    "Many programming languages allow developers to provide extra information next to their code to describe what's going on in a more human friendly way. These are typically called **comments**. Comments don't *do* anything to the execution of the code, only add information for the reader of the code. In Python we can provide them by using the `#` character."
   ]
  },
  {
   "cell_type": "code",
   "execution_count": null,
   "metadata": {},
   "outputs": [],
   "source": [
    "number_of_guests = 1 + 2  # Billy plus his two parents\n",
    "\n",
    "# Calculate size of the table needed (inches)\n",
    "length = number_of_guests * 24\n",
    "length"
   ]
  },
  {
   "cell_type": "markdown",
   "metadata": {},
   "source": [
    "## Arrays with NumPy\n",
    "\n",
    "So far we've been using the builtin functionality of Python. If there is\n",
    "something Python can't do out of the box, you can often find third-party\n",
    "**libraries** with extra functionality that can be installed and used.\n",
    "Libraries are collections of python code that can provide additional\n",
    "types of objects or functions to do more than the base Python installation.\n",
    "\n",
    "For example, in scientific programming you often have to perform calculations\n",
    "on millions of numbers and quickly. Due to some low-level details of how\n",
    "Python does things, trying to perform these calculations with numbers in a\n",
    "Python list would not be efficient (memory or processing time). The most\n",
    "popular library for detailing with large lists of numbers or arrays is\n",
    "`NumPy`.\n",
    "\n",
    "Below we'll go over the basics of NumPy arrays and how we can perform large\n",
    "calculations quickly. First, we'll use a new Python concept called `import`\n",
    "to bring NumPy functionality to our Notebook. The below line will import\n",
    "the `numpy` library and assign it to a variable named `np`."
   ]
  },
  {
   "cell_type": "code",
   "execution_count": null,
   "metadata": {},
   "outputs": [],
   "source": [
    "import numpy as np"
   ]
  },
  {
   "cell_type": "markdown",
   "metadata": {},
   "source": [
    "Once we have access to NumPy we can start using the types and functions\n",
    "provided by it. Let's start by creating an array object."
   ]
  },
  {
   "cell_type": "code",
   "execution_count": null,
   "metadata": {},
   "outputs": [],
   "source": [
    "a = np.array([1.2, 2.5, 3.2])\n",
    "a"
   ]
  },
  {
   "cell_type": "markdown",
   "metadata": {},
   "source": [
    "NumPy arrays can do a lot of mathematical operations just like the integers\n",
    "and floats we used before."
   ]
  },
  {
   "cell_type": "code",
   "execution_count": null,
   "metadata": {},
   "outputs": [],
   "source": [
    "a + 5"
   ]
  },
  {
   "cell_type": "code",
   "execution_count": null,
   "metadata": {},
   "outputs": [],
   "source": [
    "b = a * 2\n",
    "a + b"
   ]
  },
  {
   "cell_type": "markdown",
   "metadata": {},
   "source": [
    "We can also use arrays a lot like lists."
   ]
  },
  {
   "cell_type": "code",
   "execution_count": null,
   "metadata": {},
   "outputs": [],
   "source": [
    "a[0]"
   ]
  },
  {
   "cell_type": "markdown",
   "metadata": {},
   "source": [
    "NumPy arrays have their own set of functions and properties that we can\n",
    "investigate. For example `.shape` tells us how many elements are in the\n",
    "array."
   ]
  },
  {
   "cell_type": "code",
   "execution_count": null,
   "metadata": {},
   "outputs": [],
   "source": [
    "a.shape"
   ]
  },
  {
   "cell_type": "markdown",
   "metadata": {},
   "source": [
    "The `.sum` function will add up all of the numbers in the array and return\n",
    "the result."
   ]
  },
  {
   "cell_type": "code",
   "execution_count": null,
   "metadata": {},
   "outputs": [],
   "source": [
    "a.sum()"
   ]
  },
  {
   "cell_type": "markdown",
   "metadata": {},
   "source": [
    "But this is just with three numbers. If we were dealing with real data we\n",
    "would most likely have millions of values. Let's use the `random` function\n",
    "from NumPy to generate a lot of random numbers."
   ]
  },
  {
   "cell_type": "code",
   "execution_count": null,
   "metadata": {},
   "outputs": [],
   "source": [
    "r = np.random.random([1000000])\n",
    "r"
   ]
  },
  {
   "cell_type": "code",
   "execution_count": null,
   "metadata": {},
   "outputs": [],
   "source": [
    "r.shape"
   ]
  },
  {
   "cell_type": "code",
   "execution_count": null,
   "metadata": {},
   "outputs": [],
   "source": [
    "r.sum()"
   ]
  },
  {
   "cell_type": "code",
   "execution_count": null,
   "metadata": {},
   "outputs": [],
   "source": [
    "r2 = r / 2\n",
    "r2.sum()"
   ]
  },
  {
   "cell_type": "markdown",
   "metadata": {},
   "source": [
    "We can also use NumPy's `arange` function to generate a sequence of numbers:"
   ]
  },
  {
   "cell_type": "code",
   "execution_count": null,
   "metadata": {},
   "outputs": [],
   "source": [
    "x = np.arange(1000000)\n",
    "x"
   ]
  },
  {
   "cell_type": "markdown",
   "metadata": {},
   "source": [
    "There are many other operations that NumPy can perform quickly and many\n",
    "other ways to generate NumPy arrays. Learning about these is left\n",
    "as an exercise for the reader."
   ]
  },
  {
   "cell_type": "markdown",
   "metadata": {},
   "source": [
    "## Plotting with Matplotlib\n",
    "\n",
    "So far we've been dealing with code and print outs. It is often much easier\n",
    "to see what data looks like in a plot or an image. Python doesn't come with\n",
    "a lot of graphing functionality out of the box, but we can use the very\n",
    "popular `matplotlib` library to plot some data values. Due to NumPy's\n",
    "popularity and ease of use, matplotlib can plot data stored in NumPy arrays.\n",
    "\n",
    "Let's create some X/Y plots of some basic formulas. First we have to create\n",
    "the arrays we are going to plot."
   ]
  },
  {
   "cell_type": "code",
   "execution_count": null,
   "metadata": {},
   "outputs": [],
   "source": [
    "x = np.arange(100)\n",
    "y = x"
   ]
  },
  {
   "cell_type": "markdown",
   "metadata": {},
   "source": [
    "Next we import some code from the `matplotlib` library. We also use a magic\n",
    "`%matplotlib` function to tell JupyterLab how to display our plots inside\n",
    "the Notebook."
   ]
  },
  {
   "cell_type": "code",
   "execution_count": null,
   "metadata": {},
   "outputs": [],
   "source": [
    "%matplotlib widget\n",
    "import matplotlib.pyplot as plt"
   ]
  },
  {
   "cell_type": "markdown",
   "metadata": {},
   "source": [
    "Now we can tell matplotlib that we want to plot our array data by first\n",
    "creating a figure, a place to plot the data, and then we call `plot` to\n",
    "create the plot. The plot is displayed in an interactive widget below\n",
    "the cell."
   ]
  },
  {
   "cell_type": "code",
   "execution_count": null,
   "metadata": {},
   "outputs": [],
   "source": [
    "plt.figure()\n",
    "plt.plot(x, y)"
   ]
  },
  {
   "cell_type": "markdown",
   "metadata": {},
   "source": [
    "In addition to the `x` and `y` arguments, we can also set labels for the X and Y axis by calling `plt.xlabel(\"X label\")` and `plt.ylabel(\"Y label\")` functions after `plt.figure`. We can provide a title for the plot by calling `plt.title(\"Title\")`.\n",
    "\n",
    "We can change some of the properties of the plot like the color of the line by passing a keyword argument `color='red'` to the `plt.plot` function. A keyword argument or named argument is one where we specifically say what argument we are providing. This differs from positional arguments like the `x` and `y` which must be in the correct order when calling the function. Another keyword argument is `linestyle` which can be `'-'` (default), `'--'`, `'-.'`, or `':'`.\n",
    "\n",
    "**Exercise**\n",
    "\n",
    "**Time: 5 minutes**\n",
    "\n",
    "Change the equation (the value) for `y` to change what the line looks like in the plot above. Try setting your own labels or changing the style of the plot using some of the keyword arguments mentioned above.\n",
    "\n",
    "## 2D Arrays\n",
    "\n",
    "We've been using 1 dimensional (1D) arrays of data so far, but NumPy arrays\n",
    "can also be multi-dimensional. The easiest multi-dimensional array we can make\n",
    "is a 2D array. Let's create a 2D array of random points using NumPy."
   ]
  },
  {
   "cell_type": "code",
   "execution_count": null,
   "metadata": {},
   "outputs": [],
   "source": [
    "noise = np.random.random([600, 800])\n",
    "noise.shape"
   ]
  },
  {
   "cell_type": "markdown",
   "metadata": {},
   "source": [
    "Notice how the shape of the array is different than the 1D array. The shape is\n",
    "telling us there are 600 rows of data in the first dimension and 800 columns\n",
    "in the second dimension. We can still perform calculations on 2D arrays just\n",
    "like 1D arrays."
   ]
  },
  {
   "cell_type": "code",
   "execution_count": null,
   "metadata": {},
   "outputs": [],
   "source": [
    "noise = noise / 4 + 1"
   ]
  },
  {
   "cell_type": "markdown",
   "metadata": {},
   "source": [
    "2D arrays can usually be visualized as images. The\n",
    "`matplotlib` library let's us plot images by using the `imshow` function.\n",
    "\n",
    "First, let's make some data to plot. We can generate a\n",
    "sequence of numbers like we did early by calling `arange`. We then use a\n",
    "new method to \"reshape\" the array. So instead of having `600 * 800` elements,\n",
    "now it will have 600 rows and 800 columns, just like our `noise` variable."
   ]
  },
  {
   "cell_type": "code",
   "execution_count": null,
   "metadata": {},
   "outputs": [],
   "source": [
    "z = np.arange(600 * 800)"
   ]
  },
  {
   "cell_type": "code",
   "execution_count": null,
   "metadata": {},
   "outputs": [],
   "source": [
    "z = z.reshape([600, 800])"
   ]
  },
  {
   "cell_type": "code",
   "execution_count": null,
   "metadata": {},
   "outputs": [],
   "source": [
    "plt.figure()\n",
    "plt.imshow(z * noise)"
   ]
  },
  {
   "cell_type": "markdown",
   "metadata": {},
   "source": [
    "Just like line plots, we can add labels using `xlabel`, `ylabel`, and `title`. We can also add a colorbar by calling `plt.colorbar()` after `imshow()`. Some useful keyword arguments for `imshow` are `cmap` which lets us change the colors used for the data. It can be set to `viridis` (default), `magma`, `twilight`, `grays`, and many more. See the [matplotlib documentation](https://matplotlib.org/tutorials/colors/colormaps.html) for more info.\n",
    "\n",
    "You can also pass the `vmin` and `vmax` keyword arguments to specify when the colorbar starts and ends. So every value below `vmin` will be made the same color (the bottom of the colorbar) and every value greater than `vmax` will be made the same color (the top of the colorbar).\n",
    "\n",
    "**Exercise**\n",
    "\n",
    "**Time: 5 minutes**\n",
    "\n",
    "Add X and Y axis labels and a title to the figure above. Try changing the colormap and colorbar limits given the keyword arguments mentioned above."
   ]
  }
 ],
 "metadata": {
  "kernelspec": {
   "display_name": "Python 3",
   "language": "python",
   "name": "python3"
  },
  "language_info": {
   "codemirror_mode": {
    "name": "ipython",
    "version": 3
   },
   "file_extension": ".py",
   "mimetype": "text/x-python",
   "name": "python",
   "nbconvert_exporter": "python",
   "pygments_lexer": "ipython3",
   "version": "3.6.7"
  }
 },
 "nbformat": 4,
 "nbformat_minor": 4
}
